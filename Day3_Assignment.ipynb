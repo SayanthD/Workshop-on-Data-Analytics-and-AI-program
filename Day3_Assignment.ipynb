{
  "nbformat": 4,
  "nbformat_minor": 0,
  "metadata": {
    "colab": {
      "name": "Day3_Assignment.ipynb",
      "provenance": [],
      "collapsed_sections": []
    },
    "kernelspec": {
      "name": "python3",
      "display_name": "Python 3"
    },
    "accelerator": "GPU"
  },
  "cells": [
    {
      "cell_type": "code",
      "metadata": {
        "colab": {
          "base_uri": "https://localhost:8080/"
        },
        "id": "yavdEewD1T5g",
        "outputId": "9a0599e6-e895-4574-d491-3c3c5f59c3d9"
      },
      "source": [
        "marks = int(input(\"Enter your marks: \"))\n",
        "\n",
        "if marks > 90:\n",
        "  print(\"Grade is A\")\n",
        "elif marks > 80:\n",
        "  print(\"Grade is B\")\n",
        "elif marks > 68:\n",
        "  print(\"Grade is C\")\n",
        "elif marks > 45:\n",
        "  print(\"Grade is D\")\n",
        "else:\n",
        "  print(\"Grade is F\")"
      ],
      "execution_count": null,
      "outputs": [
        {
          "output_type": "stream",
          "text": [
            "Enter marks: 69\n",
            "Grade is C\n"
          ],
          "name": "stdout"
        }
      ]
    },
    {
      "cell_type": "markdown",
      "metadata": {
        "id": "MeVe4DwOVRj8"
      },
      "source": [
        "Using if and else if for grading based on the user input"
      ]
    },
    {
      "cell_type": "code",
      "metadata": {
        "colab": {
          "base_uri": "https://localhost:8080/"
        },
        "id": "GzvbZBaLFSoM",
        "outputId": "47dafdb2-f871-4b12-9c62-15c5ffd78403"
      },
      "source": [
        "uname = \"stark\"\n",
        "upass = \"edith\"\n",
        "uotp = 3000\n",
        "\n",
        "userName = input(\"Enter your username: \")\n",
        "userPass = input(\"Enter your password: \")\n",
        "\n",
        "if userName == uname:\n",
        "  if userPass == upass:\n",
        "    userOtp = int(input(\"Enter your otp: \"))\n",
        "    if userOtp == uotp:\n",
        "      print(\"Login Successful \" + uname)\n",
        "    else:\n",
        "      print(\"Incorrect OTP\")\n",
        "  else:\n",
        "    print(\"Incorrect Password!\")\n",
        "else:\n",
        "  print(\"User \" + userName + \"is not in our database\")"
      ],
      "execution_count": null,
      "outputs": [
        {
          "output_type": "stream",
          "text": [
            "Enter your username: stark\n",
            "Enter your password: edith\n",
            "Enter your otp: 2000\n",
            "Incorrect OTP\n"
          ],
          "name": "stdout"
        }
      ]
    },
    {
      "cell_type": "markdown",
      "metadata": {
        "id": "0pUjohVwVUAM"
      },
      "source": [
        "Extend the username password block to support OTP verification"
      ]
    },
    {
      "cell_type": "code",
      "metadata": {
        "colab": {
          "base_uri": "https://localhost:8080/"
        },
        "id": "Mbm2QafpCuJ8",
        "outputId": "84e248d8-2ae5-4a65-e6dd-9f9e7dc2eca8"
      },
      "source": [
        "studentMarks = {\n",
        "    \"Alfin\" : 79,\n",
        "    \"Thomas\" : 65,\n",
        "    \"Renil\" : 45,\n",
        "    \"Deepak\" : 40,\n",
        "    \"Rejith\" : 58,\n",
        "    \"Sayooj\" : 30,\n",
        "    \"Alen\" : 80\n",
        "}\n",
        "\n",
        "for key in studentMarks.keys():\n",
        "  if studentMarks[key] < 60:\n",
        "    print(key + \" has failed!\")\n",
        "  "
      ],
      "execution_count": null,
      "outputs": [
        {
          "output_type": "stream",
          "text": [
            "Renil has failed!\n",
            "Deepak has failed!\n",
            "Rejith has failed!\n",
            "Sayooj has failed!\n"
          ],
          "name": "stdout"
        }
      ]
    }
  ]
}